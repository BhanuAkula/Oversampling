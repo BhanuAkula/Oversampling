{
 "cells": [
  {
   "cell_type": "code",
   "execution_count": null,
   "metadata": {
    "id": "_IiO5ldLM-RU"
   },
   "outputs": [],
   "source": [
    "from numpy import random\n",
    "from math import *\n",
    "import numpy as np\n",
    "import matplotlib.pyplot as plt\n",
    "import pandas as pd\n",
    "from sklearn.model_selection import train_test_split\n",
    "from sklearn import preprocessing\n",
    "from sklearn.svm import SVC\n",
    "from collections import Counter\n",
    "from sklearn.tree import DecisionTreeClassifier\n",
    "from sklearn.metrics import accuracy_score \n",
    "from sklearn.model_selection import GridSearchCV\n",
    "from imblearn.over_sampling import SMOTE\n",
    "from imblearn.over_sampling import ADASYN\n",
    "from numpy import *\n",
    "from imblearn import *\n",
    "import seaborn as sns"
   ]
  },
  {
   "cell_type": "code",
   "execution_count": null,
   "metadata": {
    "colab": {
     "base_uri": "https://localhost:8080/",
     "height": 531
    },
    "id": "4JwJhEwHdzu1",
    "outputId": "adc1000a-54c5-4595-efb7-f6b4515ef6f4"
   },
   "outputs": [],
   "source": [
    "majority_c1= 0.5\n",
    "majority_std_deviation= 0.2\n",
    "majority_c2= 1\n",
    "majority_size=4500\n",
    "\n",
    "percentage= 60\n",
    "minority_std_deviation= 0.1\n",
    "minority_c1= majority_c1 + (1 - percentage/100)\n",
    "minority_c2= 1\n",
    "minority_size=500\n",
    "\n",
    "while True:\n",
    "  x_1=[]\n",
    "  y_1=[]\n",
    "  for _ in range(0,majority_size):\n",
    "    x_1.append(random.normal()*majority_std_deviation + majority_c1)\n",
    "    y_1.append(random.normal()*majority_std_deviation + majority_c2)\n",
    "  min_x1= min(x_1)\n",
    "  min_y1= min(y_1)\n",
    "  center_x= sum(x_1)/len(x_1)\n",
    "  center_y= sum(y_1)/len(y_1)\n",
    "  max_x1=max(x_1)\n",
    "  max_y1=max(y_1)\n",
    "\n",
    "  x_2=[]\n",
    "  y_2=[]\n",
    "  for _ in range(0,minority_size):\n",
    "    x_2.append(random.normal()*minority_std_deviation + minority_c1)\n",
    "    y_2.append(random.normal()*minority_std_deviation + minority_c2)\n",
    "  min_x2= min(x_2)\n",
    "  min_y2= min(y_2)\n",
    "\n",
    "  max_1= max(x_1)\n",
    "  min_2= min(x_2)\n",
    "  max_2= max(x_2)\n",
    "\n",
    "  percentage_overlapping= (max_1-min_2)/max_2*100\n",
    "  if percentage_overlapping <= percentage + 0.1 and percentage_overlapping >= percentage - 0.1:\n",
    "    break\n",
    "majority_data = pd.DataFrame({'x': x_1,'y': y_1})\n",
    "plt.plot(x_1, y_1, 'bo')\n",
    "plt.show()\n",
    "print(percentage_overlapping)\n",
    "minority_data = pd.DataFrame({'x': x_2,'y': y_2})\n",
    "plt.plot(x_2, y_2, 'ro')\n",
    "plt.show()"
   ]
  },
  {
   "cell_type": "code",
   "execution_count": null,
   "metadata": {
    "colab": {
     "base_uri": "https://localhost:8080/",
     "height": 265
    },
    "id": "29olA_ZFNTNy",
    "outputId": "40015436-0f71-4014-a113-e1a9bd3d2721"
   },
   "outputs": [],
   "source": [
    "fig = plt.figure()\n",
    "ax1 = fig.add_subplot(111)\n",
    "\n",
    "ax1.scatter(x_1, y_1, s=10, c='b', marker=\"s\", label='Majority')\n",
    "ax1.scatter(x_2,y_2, s=10, c='r', marker=\"o\", label='Minority')\n",
    "plt.legend(loc='upper left');\n",
    "plt.show()"
   ]
  },
  {
   "cell_type": "code",
   "execution_count": null,
   "metadata": {
    "id": "N6pUbrY9NUC5"
   },
   "outputs": [],
   "source": [
    "Dataset= majority_data.append(minority_data, ignore_index=True)\n",
    "majority_y=['Positive'] * 4500\n",
    "minority_y=['Negative'] * minority_size\n",
    "y=majority_y + minority_y\n",
    "X_train, X_test, y_train, y_test = train_test_split(Dataset, y, test_size=0.33, random_state=1)"
   ]
  },
  {
   "cell_type": "code",
   "execution_count": null,
   "metadata": {
    "colab": {
     "base_uri": "https://localhost:8080/",
     "height": 424
    },
    "id": "I9PXwhWwoalI",
    "outputId": "5b96ec49-1575-42a5-d046-558e2c58efcc"
   },
   "outputs": [],
   "source": [
    "X_train"
   ]
  },
  {
   "cell_type": "code",
   "execution_count": null,
   "metadata": {
    "id": "HR5uC1yRm-pw"
   },
   "outputs": [],
   "source": [
    "l1=X_train['x'].to_list()\n",
    "l2=X_train['y'].to_list()\n",
    "train=[]\n",
    "for x,y in zip(l1,l2):\n",
    "    train.append([x,y])"
   ]
  },
  {
   "cell_type": "code",
   "execution_count": null,
   "metadata": {
    "id": "-G4Qih6dcb4f"
   },
   "outputs": [],
   "source": [
    "grid = {'C': [0.1,0.5,1,10],\n",
    "              'gamma': [0.1,1,10,50,100],\n",
    "              'kernel': ['rbf']}"
   ]
  },
  {
   "cell_type": "code",
   "execution_count": null,
   "metadata": {
    "colab": {
     "base_uri": "https://localhost:8080/"
    },
    "id": "czw1PaNDdESI",
    "outputId": "b31f4917-ed9f-4310-b351-0e776e045f91"
   },
   "outputs": [],
   "source": [
    "rf_cv = GridSearchCV(estimator=SVC(), param_grid=grid, cv= 5)\n",
    "rf_cv.fit(X_train, y_train)"
   ]
  },
  {
   "cell_type": "code",
   "execution_count": null,
   "metadata": {
    "id": "kU7UIYH7dFxL"
   },
   "outputs": [],
   "source": [
    "params=rf_cv.best_params_"
   ]
  },
  {
   "cell_type": "code",
   "execution_count": null,
   "metadata": {
    "colab": {
     "base_uri": "https://localhost:8080/"
    },
    "id": "T9ikvrK9dKSg",
    "outputId": "c89205d2-acfd-493e-f6b9-61d42c9bec12"
   },
   "outputs": [],
   "source": [
    "!pip install libsvm"
   ]
  },
  {
   "cell_type": "code",
   "execution_count": null,
   "metadata": {
    "id": "7VHtanAfeFrS"
   },
   "outputs": [],
   "source": [
    "import libsvm.svmutil as svm"
   ]
  },
  {
   "cell_type": "code",
   "execution_count": null,
   "metadata": {
    "id": "WKZE_2Yff700"
   },
   "outputs": [],
   "source": [
    "X_train=list(X_train)\n",
    "y_train=list(y_train)"
   ]
  },
  {
   "cell_type": "code",
   "execution_count": null,
   "metadata": {
    "id": "nTJDaZb9g6v_"
   },
   "outputs": [],
   "source": [
    "import sklearn.preprocessing as preprocessing\n",
    "from sklearn.preprocessing import LabelEncoder\n",
    "LE = LabelEncoder()\n",
    "y_train = LE.fit_transform(y_train)\n",
    "y_train=list(y_train)"
   ]
  },
  {
   "cell_type": "code",
   "execution_count": null,
   "metadata": {},
   "outputs": [],
   "source": [
    "print(params)"
   ]
  },
  {
   "cell_type": "code",
   "execution_count": null,
   "metadata": {
    "id": "ld6EZCFthzMy"
   },
   "outputs": [],
   "source": [
    "# param = '-c ' + str(params['C']) + ' -t ' + str(2) + ' -g '+ str(params['gamma'])"
   ]
  },
  {
   "cell_type": "code",
   "execution_count": null,
   "metadata": {},
   "outputs": [],
   "source": [
    "param = '-c ' + str(1) + ' -t ' + str(2) + ' -g '+ str(10)"
   ]
  },
  {
   "cell_type": "code",
   "execution_count": null,
   "metadata": {},
   "outputs": [],
   "source": [
    "# param = '-c ' + str(0.2) + ' -t ' + str(2) + ' -g '+ str(50)"
   ]
  },
  {
   "cell_type": "code",
   "execution_count": null,
   "metadata": {
    "id": "d4euKOvjekk9"
   },
   "outputs": [],
   "source": [
    "model = svm.svm_train(y_train, train, param)"
   ]
  },
  {
   "cell_type": "code",
   "execution_count": null,
   "metadata": {
    "colab": {
     "base_uri": "https://localhost:8080/"
    },
    "id": "_RHyI0d3eqlO",
    "outputId": "2f2351b9-bce1-4d09-85b3-6ab88b9bd179"
   },
   "outputs": [],
   "source": [
    "w = np.matmul(np.array(train)[np.array(model.get_sv_indices()) - 1].T, model.get_sv_coef())\n",
    "b = -model.rho.contents.value\n",
    "if model.get_labels()[1] == -1:\n",
    "    w = -w\n",
    "    b = -b\n",
    "\n",
    "print(w)\n",
    "print(b)"
   ]
  },
  {
   "cell_type": "code",
   "execution_count": null,
   "metadata": {
    "id": "e5RdphVtrkU1"
   },
   "outputs": [],
   "source": [
    "rho = model.rho[0] \n",
    "svs = model.get_SV() \n",
    "sv_coeffs = model.get_sv_coef()"
   ]
  },
  {
   "cell_type": "code",
   "execution_count": null,
   "metadata": {
    "id": "Tx_gR_3UryJC"
   },
   "outputs": [],
   "source": [
    "indices=model.get_sv_indices()"
   ]
  },
  {
   "cell_type": "code",
   "execution_count": null,
   "metadata": {
    "colab": {
     "base_uri": "https://localhost:8080/"
    },
    "id": "f6pgDJUurpS1",
    "outputId": "5f488e43-37d1-49a7-b815-19634191a6e1"
   },
   "outputs": [],
   "source": [
    "print(rho)\n",
    "print(svs)\n",
    "print(sv_coeffs)"
   ]
  },
  {
   "cell_type": "code",
   "execution_count": null,
   "metadata": {
    "id": "nJS7MQlPspkN"
   },
   "outputs": [],
   "source": [
    "sv_coeffs1=[]\n",
    "for i in range(0, len(sv_coeffs)):\n",
    "    sv_coeffs1.append(sv_coeffs[i][0])"
   ]
  },
  {
   "cell_type": "code",
   "execution_count": null,
   "metadata": {
    "colab": {
     "base_uri": "https://localhost:8080/"
    },
    "id": "5n8RsUrUwcLK",
    "outputId": "076951a8-cf35-4b04-e3f3-d4906fa2a893"
   },
   "outputs": [],
   "source": [
    "len(indices)"
   ]
  },
  {
   "cell_type": "code",
   "execution_count": null,
   "metadata": {
    "colab": {
     "base_uri": "https://localhost:8080/"
    },
    "id": "M3ZnUnue4tm5",
    "outputId": "0dcc8378-a5ec-44ae-a073-e83500b7616d"
   },
   "outputs": [],
   "source": [
    "train[1]"
   ]
  },
  {
   "cell_type": "code",
   "execution_count": null,
   "metadata": {
    "id": "aP12XYvEu1Ik"
   },
   "outputs": [],
   "source": [
    "supportvectors=[]\n",
    "for i in range(0,len(indices)):\n",
    "  supportvectors.append([train[i][0],train[i][1]])"
   ]
  },
  {
   "cell_type": "code",
   "execution_count": null,
   "metadata": {
    "id": "6u8RfllhxOwU"
   },
   "outputs": [],
   "source": [
    "w1=[]\n",
    "for i in range(0,len(indices)):\n",
    "  w1.append([supportvectors[i][0]*sv_coeffs1[i],supportvectors[i][1]*sv_coeffs1[i]])"
   ]
  },
  {
   "cell_type": "code",
   "execution_count": null,
   "metadata": {
    "id": "E2wCRZZmyPKe"
   },
   "outputs": [],
   "source": [
    "import math\n",
    "\n",
    "wsum=0\n",
    "for i in range(0, len(w1)):\n",
    "  wsum=wsum+ (math.pow(w1[i][0],2)+ math.pow(w1[i][1],2))\n",
    "\n",
    "wsum=math.sqrt(wsum)"
   ]
  },
  {
   "cell_type": "code",
   "execution_count": null,
   "metadata": {
    "id": "214Te-fPzLxQ"
   },
   "outputs": [],
   "source": [
    "x_3=[]\n",
    "y_3=[]\n",
    "increased_minority_size= Counter(y_train)[1] - Counter(y_train)[0]\n",
    "while len(x_3)!=increased_minority_size:\n",
    "  x= random.normal()*minority_std_deviation + minority_c1\n",
    "  y= random.normal()*minority_std_deviation + minority_c2\n",
    "\n",
    "  tmpdist=abs(x)/(abs(wsum)- rho)\n",
    "# Probability next 2 lines\n",
    "# instanceprobability= 1/tmpdist * 0.02\n",
    "# if(instanceprobability > random.normal()):\n",
    "\n",
    "# Without probability \n",
    "  if(tmpdist > random.normal()):\n",
    "\n",
    "    x_3.append(x)\n",
    "    y_3.append(y)\n",
    "minority_data_increased = pd.DataFrame({'x': x_3,'y': y_3})\n"
   ]
  },
  {
   "cell_type": "code",
   "execution_count": null,
   "metadata": {
    "colab": {
     "base_uri": "https://localhost:8080/",
     "height": 265
    },
    "id": "cMeZK2h94J8k",
    "outputId": "204fe992-a6c5-49d0-e197-bf33ac84d8e0"
   },
   "outputs": [],
   "source": [
    "fig = plt.figure()\n",
    "ax1 = fig.add_subplot(111)\n",
    "\n",
    "ax1.scatter(x_1, y_1, s=10, c='b', marker=\"s\", label='Majority')\n",
    "ax1.scatter(x_2,y_2, s=10, c='r', marker=\"o\", label='Minority')\n",
    "ax1.scatter(x_3,y_3, s=10, c='g', marker=\"o\", label='Oversampled')\n",
    "plt.legend(loc='upper left');\n",
    "plt.show()"
   ]
  },
  {
   "cell_type": "code",
   "execution_count": null,
   "metadata": {
    "id": "Cu_a8fq3pquB"
   },
   "outputs": [],
   "source": [
    "tmp = {'x': x_1 + x_2, 'y': y_1 + y_2}\n",
    "X_train = pd.DataFrame(data=tmp)\n",
    "y_train= [\"Positive\"] * len(x_1) + [\"Negative\"] * len(x_2)"
   ]
  },
  {
   "cell_type": "code",
   "execution_count": null,
   "metadata": {
    "colab": {
     "base_uri": "https://localhost:8080/"
    },
    "id": "w0vbr8aDrMX2",
    "outputId": "91272923-3cff-47ff-99b5-075e3d3cd0f0"
   },
   "outputs": [],
   "source": [
    "print(len(y_train))"
   ]
  },
  {
   "cell_type": "code",
   "execution_count": null,
   "metadata": {
    "colab": {
     "base_uri": "https://localhost:8080/"
    },
    "id": "y5hZo_-S5gtL",
    "outputId": "8fac0e72-049e-4948-b1d9-e97b410432fc"
   },
   "outputs": [],
   "source": [
    "center_x= sum(x_3)/len(x_3)\n",
    "center_y= sum(y_3)/len(y_3)\n",
    "\n",
    "print(center_x)\n",
    "print(center_y)\n",
    "\n",
    "\n",
    "x_1=[]\n",
    "y_1=[]\n",
    "x_2=[]\n",
    "y_2=[]\n",
    "for x,y,val in zip(X_train['x'],X_train['y'],y_train):\n",
    "  if val == \"Positive\":\n",
    "    x_1.append(x)\n",
    "    y_1.append(y)\n",
    "  else:\n",
    "    x_2.append(x)\n",
    "    y_2.append(y)\n",
    "\n",
    "majority_data = pd.DataFrame({'x': x_1,'y': y_1})\n",
    "minority_data = pd.DataFrame({'x': x_2,'y': y_2})\n",
    "minority_data= minority_data.append(minority_data_increased, ignore_index=True)"
   ]
  },
  {
   "cell_type": "code",
   "execution_count": null,
   "metadata": {
    "id": "OGD-4rt36Hfm"
   },
   "outputs": [],
   "source": [
    "Dataset= majority_data.append(minority_data, ignore_index=True)\n",
    "majority_y=[\"Positive\"] * majority_data.shape[0]\n",
    "minority_y=[\"Negative\"] * minority_data.shape[0]\n",
    "y=majority_y + minority_y\n",
    "X_train, y_train = Dataset,y"
   ]
  },
  {
   "cell_type": "code",
   "execution_count": null,
   "metadata": {
    "colab": {
     "base_uri": "https://localhost:8080/"
    },
    "id": "vB2zI0ZP6IB0",
    "outputId": "3a89474d-e736-4ee5-b7e1-4e1db86b4e83"
   },
   "outputs": [],
   "source": [
    "print(X_train.shape)\n",
    "print(X_test.shape)\n",
    "print(len(y_train))\n",
    "print(len(y_test))"
   ]
  },
  {
   "cell_type": "code",
   "execution_count": null,
   "metadata": {
    "id": "W7St4XUG6J6j"
   },
   "outputs": [],
   "source": [
    "from sklearn.preprocessing import StandardScaler\n",
    "sc = StandardScaler()\n",
    "X_train = sc.fit_transform(X_train)\n",
    "X_test = sc.transform(X_test)"
   ]
  },
  {
   "cell_type": "code",
   "execution_count": null,
   "metadata": {
    "colab": {
     "base_uri": "https://localhost:8080/"
    },
    "id": "KjSDYBfd6n_G",
    "outputId": "776c18c2-040d-4436-90df-a6684bb82a5a"
   },
   "outputs": [],
   "source": [
    "from sklearn.naive_bayes import GaussianNB\n",
    "classifier = GaussianNB()\n",
    "classifier.fit(X_train, y_train)"
   ]
  },
  {
   "cell_type": "code",
   "execution_count": null,
   "metadata": {
    "colab": {
     "base_uri": "https://localhost:8080/"
    },
    "id": "Os_MEl7T6ofL",
    "outputId": "de36dfe7-62e2-4742-9ce5-4f8e7f215f35"
   },
   "outputs": [],
   "source": [
    "y_pred  =  classifier.predict(X_test)\n",
    "from sklearn.metrics import confusion_matrix,accuracy_score\n",
    "cm = confusion_matrix(y_test, y_pred)\n",
    "ac = accuracy_score(y_test,y_pred)\n",
    "print(ac)\n",
    "print(cm)"
   ]
  },
  {
   "cell_type": "code",
   "execution_count": null,
   "metadata": {
    "colab": {
     "base_uri": "https://localhost:8080/"
    },
    "id": "dvpKJUbWgTsE",
    "outputId": "2f47d45c-c912-4614-cd50-d39a2ac28226"
   },
   "outputs": [],
   "source": [
    "classifier = SVC(kernel = 'rbf', random_state = 0)\n",
    "classifier.fit(X_train, y_train)"
   ]
  },
  {
   "cell_type": "code",
   "execution_count": null,
   "metadata": {
    "colab": {
     "base_uri": "https://localhost:8080/"
    },
    "id": "lwjxp_q4gX1w",
    "outputId": "ca486e6e-abef-48e3-d7a1-3bfcc82875a2"
   },
   "outputs": [],
   "source": [
    "y_pred = classifier.predict(X_test) \n",
    "cm = confusion_matrix(y_test, y_pred)\n",
    "print (\"Accuracy : \", accuracy_score(y_test, y_pred))\n",
    "print(cm)"
   ]
  },
  {
   "cell_type": "code",
   "execution_count": null,
   "metadata": {
    "id": "iZW08FZlgZ_I"
   },
   "outputs": [],
   "source": [
    "clf = DecisionTreeClassifier()\n",
    "clf = clf.fit(X_train,y_train)\n",
    "y_pred = clf.predict(X_test)"
   ]
  },
  {
   "cell_type": "code",
   "execution_count": null,
   "metadata": {
    "colab": {
     "base_uri": "https://localhost:8080/"
    },
    "id": "eYrCSVz6gcvH",
    "outputId": "dfe8f327-dbb1-4b15-a1c8-8f635adb7989"
   },
   "outputs": [],
   "source": [
    "y_pred = classifier.predict(X_test) \n",
    "cm = confusion_matrix(y_test, y_pred)\n",
    "print (\"Accuracy : \", accuracy_score(y_test, y_pred))\n",
    "print(cm)"
   ]
  },
  {
   "cell_type": "code",
   "execution_count": null,
   "metadata": {
    "colab": {
     "base_uri": "https://localhost:8080/"
    },
    "id": "yKoYFApxgd_4",
    "outputId": "9c1bfc03-c9b9-41c9-c6f2-ecc4c508abfd"
   },
   "outputs": [],
   "source": [
    "from sklearn.metrics import precision_recall_fscore_support\n",
    "\n",
    "precision_recall_fscore_support(y_test, y_pred, average='weighted')"
   ]
  },
  {
   "cell_type": "code",
   "execution_count": null,
   "metadata": {},
   "outputs": [],
   "source": [
    "print(percentage_overlapping)"
   ]
  }
 ],
 "metadata": {
  "colab": {
   "collapsed_sections": [],
   "name": "Synthetic_Data_Generation_SVM.ipynb",
   "provenance": []
  },
  "kernelspec": {
   "display_name": "Python 3 (ipykernel)",
   "language": "python",
   "name": "python3"
  },
  "language_info": {
   "codemirror_mode": {
    "name": "ipython",
    "version": 3
   },
   "file_extension": ".py",
   "mimetype": "text/x-python",
   "name": "python",
   "nbconvert_exporter": "python",
   "pygments_lexer": "ipython3",
   "version": "3.9.7"
  }
 },
 "nbformat": 4,
 "nbformat_minor": 1
}
