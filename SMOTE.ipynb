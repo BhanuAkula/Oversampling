{
 "cells": [
  {
   "cell_type": "code",
   "execution_count": null,
   "metadata": {
    "id": "28sZAp8y5hGz"
   },
   "outputs": [],
   "source": [
    "from numpy import random\n",
    "from math import *\n",
    "import numpy as np\n",
    "import matplotlib.pyplot as plt\n",
    "import pandas as pd\n",
    "from sklearn.model_selection import train_test_split\n",
    "from sklearn import preprocessing\n",
    "from sklearn.svm import SVC\n",
    "from collections import Counter\n",
    "from sklearn.tree import DecisionTreeClassifier\n",
    "from sklearn.metrics import accuracy_score \n",
    "from sklearn.model_selection import GridSearchCV\n",
    "from imblearn.over_sampling import SMOTE\n",
    "from imblearn.over_sampling import ADASYN\n",
    "from numpy import *\n",
    "from imblearn import *\n",
    "import seaborn as sns"
   ]
  },
  {
   "cell_type": "code",
   "execution_count": null,
   "metadata": {},
   "outputs": [],
   "source": [
    "majority_c1= 0.5\n",
    "majority_std_deviation= 0.2\n",
    "majority_c2= 1\n",
    "majority_size=900\n",
    "\n",
    "percentage= 50\n",
    "minority_std_deviation= 0.1\n",
    "minority_c1= majority_c1 + (1 - percentage/100)\n",
    "minority_c2= 1\n",
    "minority_size=100\n",
    "\n",
    "while True:\n",
    "  x_1=[]\n",
    "  y_1=[]\n",
    "  for _ in range(0,majority_size):\n",
    "    x_1.append(random.normal()*majority_std_deviation + majority_c1)\n",
    "    y_1.append(random.normal()*majority_std_deviation + majority_c2)\n",
    "  min_x1= min(x_1)\n",
    "  min_y1= min(y_1)\n",
    "  center_x= sum(x_1)/len(x_1)\n",
    "  center_y= sum(y_1)/len(y_1)\n",
    "  max_x1=max(x_1)\n",
    "  max_y1=max(y_1)\n",
    "\n",
    "  x_2=[]\n",
    "  y_2=[]\n",
    "  for _ in range(0,minority_size):\n",
    "    x_2.append(random.normal()*minority_std_deviation + minority_c1)\n",
    "    y_2.append(random.normal()*minority_std_deviation + minority_c2)\n",
    "  min_x2= min(x_2)\n",
    "  min_y2= min(y_2)\n",
    "\n",
    "  max_1= max(x_1)\n",
    "  min_2= min(x_2)\n",
    "  max_2= max(x_2)\n",
    "\n",
    "  percentage_overlapping= (max_1-min_2)/max_2*100\n",
    "  if percentage_overlapping <= percentage + 0.1 and percentage_overlapping >= percentage - 0.1:\n",
    "    break\n",
    "majority_data = pd.DataFrame({'x': x_1,'y': y_1})\n",
    "plt.plot(x_1, y_1, 'bo')\n",
    "plt.show()\n",
    "print(percentage_overlapping)\n",
    "minority_data = pd.DataFrame({'x': x_2,'y': y_2})\n",
    "plt.plot(x_2, y_2, 'ro')\n",
    "plt.show()"
   ]
  },
  {
   "cell_type": "code",
   "execution_count": null,
   "metadata": {},
   "outputs": [],
   "source": [
    "fig = plt.figure()\n",
    "ax1 = fig.add_subplot(111)\n",
    "\n",
    "ax1.scatter(x_1, y_1, s=10, c='b', marker=\"s\", label='first')\n",
    "ax1.scatter(x_2,y_2, s=10, c='r', marker=\"o\", label='second')\n",
    "plt.legend(loc='upper left');\n",
    "plt.show()\n",
    "print(percentage_overlapping)"
   ]
  },
  {
   "cell_type": "code",
   "execution_count": null,
   "metadata": {
    "id": "S1kiTjTaSg8j"
   },
   "outputs": [],
   "source": [
    "Dataset= majority_data.append(minority_data, ignore_index=True)\n",
    "majority_y=['Positive'] * 900\n",
    "minority_y=['Negative'] * minority_size\n",
    "y=majority_y + minority_y\n",
    "X_train, X_test, y_train, y_test = train_test_split(Dataset, y, test_size=0.33, random_state=1)"
   ]
  },
  {
   "cell_type": "code",
   "execution_count": null,
   "metadata": {
    "colab": {
     "base_uri": "https://localhost:8080/"
    },
    "id": "D7SEYFjXBtkg",
    "outputId": "640a952e-deb8-4c11-b5a4-e68480ac28bd"
   },
   "outputs": [],
   "source": [
    "counter = Counter(y_train)\n",
    "print(counter)"
   ]
  },
  {
   "cell_type": "code",
   "execution_count": null,
   "metadata": {
    "id": "BXzTu6132VrJ"
   },
   "outputs": [],
   "source": [
    "oversample = SMOTE()\n",
    "X, Y = oversample.fit_resample(X_train, y_train)"
   ]
  },
  {
   "cell_type": "code",
   "execution_count": null,
   "metadata": {
    "id": "-Txg6a6KUcPN"
   },
   "outputs": [],
   "source": [
    "x_1=[]\n",
    "y_1=[]\n",
    "x_2=[]\n",
    "y_2=[]\n",
    "x_3=[]\n",
    "y_3=[]\n",
    "for x,y,val in zip(X_train['x'],X_train['y'],y_train):\n",
    "  if val == \"Positive\":\n",
    "    x_1.append(x)\n",
    "    y_1.append(y)\n",
    "  else:\n",
    "    x_2.append(x)\n",
    "    y_2.append(y)\n",
    "for x,y,val in zip(X['x'],X['y'],Y):\n",
    "  if val == \"Positive\":\n",
    "    x_1.append(x)\n",
    "    y_1.append(y)\n",
    "  else:\n",
    "    x_2.append(x)\n",
    "    y_2.append(y)\n",
    "majority_data = pd.DataFrame({'x': x_1,'y': y_1})\n",
    "minority_data = pd.DataFrame({'x': x_2,'y': y_2})\n",
    "\n"
   ]
  },
  {
   "cell_type": "code",
   "execution_count": null,
   "metadata": {
    "colab": {
     "base_uri": "https://localhost:8080/",
     "height": 265
    },
    "id": "j_CwXmx-3LXO",
    "outputId": "1833d4f9-a1ed-470a-c20a-ea0e1a80dfa0"
   },
   "outputs": [],
   "source": [
    "fig = plt.figure()\n",
    "ax1 = fig.add_subplot(111)\n",
    "ax1.scatter(x_1, y_1, s=10, c='b', marker=\"s\", label='Majority')\n",
    "ax1.scatter(x_2, y_2, s=10, c='r', marker=\"o\", label='Minority')\n",
    "ax1.scatter(X['x'], X['y'], s=10, c='y', marker=\"o\", label='Oversampled')\n",
    "plt.legend(loc='upper left');\n",
    "plt.show()"
   ]
  },
  {
   "cell_type": "code",
   "execution_count": null,
   "metadata": {
    "id": "_ZI8zUmZUiVN"
   },
   "outputs": [],
   "source": [
    "Dataset= majority_data.append(minority_data, ignore_index=True)\n",
    "majority_y=['Positive'] * majority_data.shape[0]\n",
    "minority_y=['Negative'] * minority_data.shape[0]\n",
    "y=majority_y + minority_y\n",
    "X_train, y_train = Dataset,y"
   ]
  },
  {
   "cell_type": "code",
   "execution_count": null,
   "metadata": {},
   "outputs": [],
   "source": [
    "Counter(y)"
   ]
  },
  {
   "cell_type": "code",
   "execution_count": null,
   "metadata": {
    "id": "rfOEs4JTDdvT"
   },
   "outputs": [],
   "source": [
    "from sklearn.preprocessing import StandardScaler\n",
    "sc = StandardScaler()\n",
    "X_train = sc.fit_transform(X_train)\n",
    "X_test = sc.transform(X_test)"
   ]
  },
  {
   "cell_type": "code",
   "execution_count": null,
   "metadata": {
    "colab": {
     "base_uri": "https://localhost:8080/"
    },
    "id": "xB0tPm8ZDksG",
    "outputId": "0679a4fa-f4c0-494e-d4ea-382a054b2a02"
   },
   "outputs": [],
   "source": [
    "from sklearn.naive_bayes import GaussianNB\n",
    "classifier = GaussianNB()\n",
    "classifier.fit(X_train, y_train)"
   ]
  },
  {
   "cell_type": "code",
   "execution_count": null,
   "metadata": {
    "colab": {
     "base_uri": "https://localhost:8080/"
    },
    "id": "fv1FiqkQD3Yl",
    "outputId": "027a0b6d-3960-4eab-ab36-cabd537496d8"
   },
   "outputs": [],
   "source": [
    "y_pred  =  classifier.predict(X_test)\n",
    "from sklearn.metrics import confusion_matrix,accuracy_score\n",
    "cm = confusion_matrix(y_test, y_pred)\n",
    "ac = accuracy_score(y_test,y_pred)\n",
    "print(ac)\n",
    "print(cm)"
   ]
  },
  {
   "cell_type": "code",
   "execution_count": null,
   "metadata": {},
   "outputs": [],
   "source": [
    "from sklearn.metrics import precision_recall_fscore_support\n",
    "\n",
    "precision_recall_fscore_support(y_test, y_pred, average='weighted')"
   ]
  },
  {
   "cell_type": "code",
   "execution_count": null,
   "metadata": {
    "colab": {
     "base_uri": "https://localhost:8080/"
    },
    "id": "ZnAfM0j4EIl8",
    "outputId": "f577b1c2-36b4-4a8f-e6fe-6cdcacb352b6"
   },
   "outputs": [],
   "source": [
    "classifier = SVC(kernel = 'rbf', random_state = 0)\n",
    "classifier.fit(X_train, y)"
   ]
  },
  {
   "cell_type": "code",
   "execution_count": null,
   "metadata": {
    "colab": {
     "base_uri": "https://localhost:8080/"
    },
    "id": "Jq_IRy47EIX5",
    "outputId": "fa5f39b1-748a-4d3d-f384-aa53628d2c2e"
   },
   "outputs": [],
   "source": [
    "y_pred = classifier.predict(X_test) \n",
    "cm = confusion_matrix(y_test, y_pred)\n",
    "print (\"Accuracy : \", accuracy_score(y_test, y_pred))\n",
    "print(cm)"
   ]
  },
  {
   "cell_type": "code",
   "execution_count": null,
   "metadata": {},
   "outputs": [],
   "source": [
    "from sklearn.metrics import precision_recall_fscore_support\n",
    "\n",
    "precision_recall_fscore_support(y_test, y_pred, average='weighted')"
   ]
  },
  {
   "cell_type": "code",
   "execution_count": null,
   "metadata": {
    "id": "txS2JeAHEIT_"
   },
   "outputs": [],
   "source": [
    "clf = DecisionTreeClassifier()\n",
    "clf = clf.fit(X_train,y)\n",
    "y_pred = clf.predict(X_test)"
   ]
  },
  {
   "cell_type": "code",
   "execution_count": null,
   "metadata": {
    "colab": {
     "base_uri": "https://localhost:8080/"
    },
    "id": "Cm3ij0lJEIN_",
    "outputId": "e43c95b4-48c8-4b2a-dcd7-1ca4ef562d02"
   },
   "outputs": [],
   "source": [
    "y_pred = classifier.predict(X_test) \n",
    "cm = confusion_matrix(y_test, y_pred)\n",
    "print (\"Accuracy : \", accuracy_score(y_test, y_pred))\n",
    "print(cm)"
   ]
  },
  {
   "cell_type": "code",
   "execution_count": null,
   "metadata": {
    "colab": {
     "base_uri": "https://localhost:8080/"
    },
    "id": "QY8mwYROEIGm",
    "outputId": "b52d8d7e-79dd-4444-95f8-7d97b2b593b1"
   },
   "outputs": [],
   "source": [
    "from sklearn.metrics import precision_recall_fscore_support\n",
    "\n",
    "precision_recall_fscore_support(y_test, y_pred, average='weighted')"
   ]
  },
  {
   "cell_type": "code",
   "execution_count": null,
   "metadata": {},
   "outputs": [],
   "source": [
    "print(percentage_overlapping)"
   ]
  },
  {
   "cell_type": "code",
   "execution_count": null,
   "metadata": {},
   "outputs": [],
   "source": []
  }
 ],
 "metadata": {
  "colab": {
   "collapsed_sections": [],
   "name": "Synthetic_Data_Generation_SMOTE.ipynb",
   "provenance": []
  },
  "kernelspec": {
   "display_name": "Python 3 (ipykernel)",
   "language": "python",
   "name": "python3"
  },
  "language_info": {
   "codemirror_mode": {
    "name": "ipython",
    "version": 3
   },
   "file_extension": ".py",
   "mimetype": "text/x-python",
   "name": "python",
   "nbconvert_exporter": "python",
   "pygments_lexer": "ipython3",
   "version": "3.9.7"
  }
 },
 "nbformat": 4,
 "nbformat_minor": 1
}
