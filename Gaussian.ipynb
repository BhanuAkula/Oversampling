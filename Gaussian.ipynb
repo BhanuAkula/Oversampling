{
 "cells": [
  {
   "cell_type": "code",
   "execution_count": null,
   "metadata": {
    "id": "28sZAp8y5hGz"
   },
   "outputs": [],
   "source": [
    "from numpy import random\n",
    "from math import *\n",
    "import numpy as np\n",
    "import matplotlib.pyplot as plt\n",
    "import pandas as pd\n",
    "from sklearn.model_selection import train_test_split\n",
    "from sklearn import preprocessing\n",
    "from sklearn.svm import SVC\n",
    "from sklearn.tree import DecisionTreeClassifier\n",
    "from sklearn.metrics import accuracy_score \n",
    "from collections import Counter"
   ]
  },
  {
   "cell_type": "code",
   "execution_count": null,
   "metadata": {},
   "outputs": [],
   "source": [
    "majority_c1= 0.5\n",
    "majority_std_deviation= 0.2\n",
    "majority_c2= 1\n",
    "majority_size=4500\n",
    "\n",
    "percentage= 40\n",
    "minority_std_deviation= 0.1\n",
    "minority_c1= majority_c1 + (1 - percentage/100)\n",
    "minority_c2= 1\n",
    "minority_size=500\n",
    "\n",
    "while True:\n",
    "  x_1=[]\n",
    "  y_1=[]\n",
    "  for _ in range(0,majority_size):\n",
    "    x_1.append(random.normal()*majority_std_deviation + majority_c1)\n",
    "    y_1.append(random.normal()*majority_std_deviation + majority_c2)\n",
    "  min_x1= min(x_1)\n",
    "  min_y1= min(y_1)\n",
    "  center_x= sum(x_1)/len(x_1)\n",
    "  center_y= sum(y_1)/len(y_1)\n",
    "  max_x1=max(x_1)\n",
    "  max_y1=max(y_1)\n",
    "\n",
    "  x_2=[]\n",
    "  y_2=[]\n",
    "  for _ in range(0,minority_size):\n",
    "    x_2.append(random.normal()*minority_std_deviation + minority_c1)\n",
    "    y_2.append(random.normal()*minority_std_deviation + minority_c2)\n",
    "  min_x2= min(x_2)\n",
    "  min_y2= min(y_2)\n",
    "\n",
    "  max_1= max(x_1)\n",
    "  min_2= min(x_2)\n",
    "  max_2= max(x_2)\n",
    "\n",
    "  percentage_overlapping= (max_1-min_2)/max_2*100\n",
    "  if percentage_overlapping <= percentage + 0.1 and percentage_overlapping >= percentage - 0.1:\n",
    "    break\n",
    "majority_data = pd.DataFrame({'x': x_1,'y': y_1})\n",
    "plt.plot(x_1, y_1, 'bo')\n",
    "plt.show()\n",
    "print(percentage_overlapping)\n",
    "minority_data = pd.DataFrame({'x': x_2,'y': y_2})\n",
    "plt.plot(x_2, y_2, 'ro')\n",
    "plt.show()"
   ]
  },
  {
   "cell_type": "code",
   "execution_count": null,
   "metadata": {},
   "outputs": [],
   "source": [
    "fig = plt.figure()\n",
    "ax1 = fig.add_subplot(111)\n",
    "\n",
    "ax1.scatter(x_1, y_1, s=10, c='b', marker=\"s\", label='first')\n",
    "ax1.scatter(x_2,y_2, s=10, c='r', marker=\"o\", label='second')\n",
    "plt.legend(loc='upper left');\n",
    "plt.show()\n",
    "print(percentage_overlapping)"
   ]
  },
  {
   "cell_type": "code",
   "execution_count": null,
   "metadata": {
    "id": "TdsNga2eapiZ"
   },
   "outputs": [],
   "source": [
    "Dataset= majority_data.append(minority_data, ignore_index=True)\n",
    "majority_y=['Positive'] * majority_size\n",
    "minority_y=['Negative'] * minority_size\n",
    "y=majority_y + minority_y\n",
    "X_train, X_test, y_train, y_test = train_test_split(Dataset, y, test_size=0.33, random_state=1)"
   ]
  },
  {
   "cell_type": "code",
   "execution_count": null,
   "metadata": {
    "id": "hTDyIRkkW8T7"
   },
   "outputs": [],
   "source": [
    "x_3=[]\n",
    "y_3=[]\n",
    "center_x= sum(x_2)/len(x_2)\n",
    "center_y= sum(y_2)/len(y_2)\n",
    "increased_minority_size= Counter(y_train)['Positive'] - Counter(y_train)['Negative']\n",
    "for _ in range(0,increased_minority_size):\n",
    "  x_3.append(random.normal()*minority_std_deviation + center_x)\n",
    "  y_3.append(random.normal()*minority_std_deviation + center_y)\n",
    "min_x3= min(x_3)\n",
    "min_y3= min(y_3)\n",
    "\n",
    "minority_data_increased = pd.DataFrame({'x': x_3,'y': y_3})\n",
    "minority_data= minority_data.append(minority_data_increased, ignore_index=True)\n",
    "min_x3= min(x_3)\n",
    "min_y3= min(y_3)"
   ]
  },
  {
   "cell_type": "code",
   "execution_count": null,
   "metadata": {
    "colab": {
     "base_uri": "https://localhost:8080/"
    },
    "id": "VJkUw4QsJF05",
    "outputId": "11f001a1-9d83-4505-e453-845ea48edd31"
   },
   "outputs": [],
   "source": [
    "center_x= sum(x_3)/len(x_3)\n",
    "center_y= sum(y_3)/len(y_3)\n",
    "\n",
    "print(center_x)\n",
    "print(center_y)"
   ]
  },
  {
   "cell_type": "code",
   "execution_count": null,
   "metadata": {
    "id": "TIueub5Gawmp"
   },
   "outputs": [],
   "source": [
    "x_1=[]\n",
    "y_1=[]\n",
    "x_2=[]\n",
    "y_2=[]\n",
    "for x,y,val in zip(X_train['x'],X_train['y'],y_train):\n",
    "  if val == \"Positive\":\n",
    "    x_1.append(x)\n",
    "    y_1.append(y)\n",
    "  else:\n",
    "    x_2.append(x)\n",
    "    y_2.append(y)\n",
    "\n",
    "majority_data = pd.DataFrame({'x': x_1,'y': y_1})\n",
    "minority_data = pd.DataFrame({'x': x_2,'y': y_2})\n",
    "minority_data= minority_data.append(minority_data_increased, ignore_index=True)"
   ]
  },
  {
   "cell_type": "code",
   "execution_count": null,
   "metadata": {
    "colab": {
     "base_uri": "https://localhost:8080/",
     "height": 265
    },
    "id": "0M-FQUM9kbWt",
    "outputId": "ad3667c8-2661-4718-f473-f7208dd55af1"
   },
   "outputs": [],
   "source": [
    "fig = plt.figure()\n",
    "ax1 = fig.add_subplot(111)\n",
    "ax1.scatter(x_1, y_1, s=10, c='b', marker=\"s\", label='Majority')\n",
    "ax1.scatter(x_2, y_2, s=10, c='r', marker=\"o\", label='Minority')\n",
    "ax1.scatter(x_3, y_3, s=10, c='y', marker=\"o\", label='Oversampled')\n",
    "plt.legend(loc='upper left');\n",
    "plt.show()"
   ]
  },
  {
   "cell_type": "code",
   "execution_count": null,
   "metadata": {
    "colab": {
     "base_uri": "https://localhost:8080/"
    },
    "id": "VHKs5oJnjxOQ",
    "outputId": "b3523eb2-5117-40b3-b367-9cdad5792ce5"
   },
   "outputs": [],
   "source": [
    "print(majority_data.shape)\n",
    "print(minority_data.shape)"
   ]
  },
  {
   "cell_type": "code",
   "execution_count": null,
   "metadata": {
    "id": "L2Pb6zWJE8yj"
   },
   "outputs": [],
   "source": [
    "Dataset= majority_data.append(minority_data, ignore_index=True)\n",
    "majority_y=['Positive'] * majority_data.shape[0]\n",
    "minority_y=['Negative'] * minority_data.shape[0]\n",
    "y=majority_y + minority_y\n",
    "X_train, y_train = Dataset,y"
   ]
  },
  {
   "cell_type": "code",
   "execution_count": null,
   "metadata": {
    "colab": {
     "base_uri": "https://localhost:8080/"
    },
    "id": "PRsmMHWNkcoI",
    "outputId": "38e9ff82-67ba-4273-9910-48e1bb16947d"
   },
   "outputs": [],
   "source": [
    "print(X_train.shape)\n",
    "print(X_test.shape)\n",
    "print(len(y_train))\n",
    "print(len(y_test))\n",
    "\n",
    "print(Counter(y))"
   ]
  },
  {
   "cell_type": "code",
   "execution_count": null,
   "metadata": {
    "id": "fGrUAiC6Ej8t"
   },
   "outputs": [],
   "source": [
    "from sklearn.preprocessing import StandardScaler\n",
    "sc = StandardScaler()\n",
    "X_train = sc.fit_transform(X_train)\n",
    "X_test = sc.transform(X_test)"
   ]
  },
  {
   "cell_type": "code",
   "execution_count": null,
   "metadata": {
    "colab": {
     "base_uri": "https://localhost:8080/"
    },
    "id": "-RPO8FKDfdOv",
    "outputId": "e768ac03-a34c-4485-e58f-1bb1bd85d8fb"
   },
   "outputs": [],
   "source": [
    "from sklearn.naive_bayes import GaussianNB\n",
    "classifier = GaussianNB()\n",
    "classifier.fit(X_train, y_train)"
   ]
  },
  {
   "cell_type": "code",
   "execution_count": null,
   "metadata": {
    "id": "YDJmctkCg9WC"
   },
   "outputs": [],
   "source": [
    "y_pred  =  classifier.predict(X_test)"
   ]
  },
  {
   "cell_type": "code",
   "execution_count": null,
   "metadata": {
    "id": "MiEVhCJuhKFl"
   },
   "outputs": [],
   "source": [
    "from sklearn.metrics import confusion_matrix,accuracy_score\n",
    "cm = confusion_matrix(y_test, y_pred)\n",
    "ac = accuracy_score(y_test,y_pred)"
   ]
  },
  {
   "cell_type": "code",
   "execution_count": null,
   "metadata": {
    "colab": {
     "base_uri": "https://localhost:8080/"
    },
    "id": "-o_zGLu1hhGi",
    "outputId": "9c552b4d-7e04-4acc-897d-77f7ab3f52e1"
   },
   "outputs": [],
   "source": [
    "print(ac)\n",
    "print(cm)"
   ]
  },
  {
   "cell_type": "code",
   "execution_count": null,
   "metadata": {},
   "outputs": [],
   "source": [
    "from sklearn.metrics import precision_recall_fscore_support\n",
    "\n",
    "precision_recall_fscore_support(y_test, y_pred, average='weighted')"
   ]
  },
  {
   "cell_type": "code",
   "execution_count": null,
   "metadata": {
    "colab": {
     "base_uri": "https://localhost:8080/"
    },
    "id": "qjbtjtu775fH",
    "outputId": "7ae7bf58-8831-40ae-96d1-9e36016cd66e"
   },
   "outputs": [],
   "source": [
    "classifier = SVC(kernel = 'rbf', random_state = 0)\n",
    "classifier.fit(X_train, y_train)"
   ]
  },
  {
   "cell_type": "code",
   "execution_count": null,
   "metadata": {
    "colab": {
     "base_uri": "https://localhost:8080/"
    },
    "id": "I6rFR_qm8Fcv",
    "outputId": "9174cb1b-5267-4cd2-ba21-81a90b97a0ff"
   },
   "outputs": [],
   "source": [
    "y_pred = classifier.predict(X_test) \n",
    "cm = confusion_matrix(y_test, y_pred)\n",
    "print (\"Accuracy : \", accuracy_score(y_test, y_pred))\n",
    "print(cm)"
   ]
  },
  {
   "cell_type": "code",
   "execution_count": null,
   "metadata": {},
   "outputs": [],
   "source": [
    "precision_recall_fscore_support(y_test, y_pred, average='weighted')"
   ]
  },
  {
   "cell_type": "code",
   "execution_count": null,
   "metadata": {
    "id": "fg1z3KFmFDYZ"
   },
   "outputs": [],
   "source": [
    "clf = DecisionTreeClassifier()\n",
    "clf = clf.fit(X_train,y_train)\n",
    "y_pred = clf.predict(X_test)"
   ]
  },
  {
   "cell_type": "code",
   "execution_count": null,
   "metadata": {
    "colab": {
     "base_uri": "https://localhost:8080/"
    },
    "id": "S6FA10zHGg9L",
    "outputId": "9b2c67ef-e5bd-4884-e579-ec0def0d9794"
   },
   "outputs": [],
   "source": [
    "y_pred = classifier.predict(X_test) \n",
    "cm = confusion_matrix(y_test, y_pred)\n",
    "print (\"Accuracy : \", accuracy_score(y_test, y_pred))\n",
    "print(cm)"
   ]
  },
  {
   "cell_type": "code",
   "execution_count": null,
   "metadata": {
    "colab": {
     "base_uri": "https://localhost:8080/"
    },
    "id": "JaeFUEUvb21-",
    "outputId": "33ef3371-0544-4b51-ce12-e87a2b2b789f"
   },
   "outputs": [],
   "source": [
    "from sklearn.metrics import precision_recall_fscore_support\n",
    "\n",
    "precision_recall_fscore_support(y_test, y_pred, average='weighted')"
   ]
  },
  {
   "cell_type": "code",
   "execution_count": null,
   "metadata": {},
   "outputs": [],
   "source": [
    "print(percentage_overlapping)"
   ]
  },
  {
   "cell_type": "code",
   "execution_count": null,
   "metadata": {},
   "outputs": [],
   "source": []
  }
 ],
 "metadata": {
  "colab": {
   "collapsed_sections": [],
   "name": "Synthetic_Data_Generation_Gaussian.ipynb",
   "provenance": []
  },
  "kernelspec": {
   "display_name": "Python 3 (ipykernel)",
   "language": "python",
   "name": "python3"
  },
  "language_info": {
   "codemirror_mode": {
    "name": "ipython",
    "version": 3
   },
   "file_extension": ".py",
   "mimetype": "text/x-python",
   "name": "python",
   "nbconvert_exporter": "python",
   "pygments_lexer": "ipython3",
   "version": "3.9.7"
  }
 },
 "nbformat": 4,
 "nbformat_minor": 1
}
