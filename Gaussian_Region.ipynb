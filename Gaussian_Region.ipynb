{
 "cells": [
  {
   "cell_type": "code",
   "execution_count": null,
   "metadata": {
    "id": "28sZAp8y5hGz"
   },
   "outputs": [],
   "source": [
    "from numpy import random\n",
    "from math import *\n",
    "import numpy as np\n",
    "import matplotlib.pyplot as plt\n",
    "import pandas as pd\n",
    "from sklearn.model_selection import train_test_split\n",
    "from sklearn import preprocessing\n",
    "from sklearn.svm import SVC\n",
    "from sklearn.tree import DecisionTreeClassifier\n",
    "from sklearn.metrics import accuracy_score \n",
    "from collections import Counter"
   ]
  },
  {
   "cell_type": "code",
   "execution_count": null,
   "metadata": {},
   "outputs": [],
   "source": [
    "majority_c1= 0.5\n",
    "majority_std_deviation= 0.2\n",
    "majority_c2= 1\n",
    "majority_size=4500\n",
    "\n",
    "percentage= 40\n",
    "minority_std_deviation= 0.1\n",
    "minority_c1= majority_c1 + (1 - percentage/100)\n",
    "minority_c2= 1\n",
    "minority_size=500\n",
    "\n",
    "while True:\n",
    "  x_1=[]\n",
    "  y_1=[]\n",
    "  for _ in range(0,majority_size):\n",
    "    x_1.append(random.normal()*majority_std_deviation + majority_c1)\n",
    "    y_1.append(random.normal()*majority_std_deviation + majority_c2)\n",
    "  min_x1= min(x_1)\n",
    "  min_y1= min(y_1)\n",
    "  center_x= sum(x_1)/len(x_1)\n",
    "  center_y= sum(y_1)/len(y_1)\n",
    "  max_x1=max(x_1)\n",
    "  max_y1=max(y_1)\n",
    "\n",
    "  x_2=[]\n",
    "  y_2=[]\n",
    "  for _ in range(0,minority_size):\n",
    "    x_2.append(random.normal()*minority_std_deviation + minority_c1)\n",
    "    y_2.append(random.normal()*minority_std_deviation + minority_c2)\n",
    "  min_x2= min(x_2)\n",
    "  min_y2= min(y_2)\n",
    "\n",
    "  max_1= max(x_1)\n",
    "  min_2= min(x_2)\n",
    "  max_2= max(x_2)\n",
    "\n",
    "  percentage_overlapping= (max_1-min_2)/max_2*100\n",
    "  if percentage_overlapping <= percentage + 0.1 and percentage_overlapping >= percentage - 0.1:\n",
    "    break\n",
    "majority_data = pd.DataFrame({'x': x_1,'y': y_1})\n",
    "plt.plot(x_1, y_1, 'bo')\n",
    "plt.show()\n",
    "print(percentage_overlapping)\n",
    "minority_data = pd.DataFrame({'x': x_2,'y': y_2})\n",
    "plt.plot(x_2, y_2, 'ro')\n",
    "plt.show()"
   ]
  },
  {
   "cell_type": "code",
   "execution_count": null,
   "metadata": {},
   "outputs": [],
   "source": [
    "fig = plt.figure()\n",
    "ax1 = fig.add_subplot(111)\n",
    "\n",
    "ax1.scatter(x_1, y_1, s=10, c='b', marker=\"s\", label='first')\n",
    "ax1.scatter(x_2,y_2, s=10, c='r', marker=\"o\", label='second')\n",
    "plt.legend(loc='upper left');\n",
    "plt.show()\n",
    "print(percentage_overlapping)"
   ]
  },
  {
   "cell_type": "code",
   "execution_count": null,
   "metadata": {
    "id": "8uMiA3qwEPPk"
   },
   "outputs": [],
   "source": [
    "Dataset= majority_data.append(minority_data, ignore_index=True)\n",
    "majority_y=['Positive'] * 4500\n",
    "minority_y=['Negative'] * minority_size\n",
    "y=majority_y + minority_y\n",
    "X_train, X_test, y_train, y_test = train_test_split(Dataset, y, test_size=0.33, random_state=1)"
   ]
  },
  {
   "cell_type": "code",
   "execution_count": null,
   "metadata": {
    "id": "s5kxs1WszqO9"
   },
   "outputs": [],
   "source": [
    "q3, q1 = np.percentile(x_1, [75 ,25])\n",
    "up_majority_x= q3 + (1.5*(q3- q1))\n",
    "\n",
    "q3, q1 = np.percentile(y_1, [75 ,25])\n",
    "up_majority_y= q3 + (1.5*(q3- q1))\n",
    "\n",
    "q3, q1 = np.percentile(x_2, [75 ,25])\n",
    "lo_minority_x= q1 - (1.5*(q3- q1))\n",
    "\n",
    "q3, q1 = np.percentile(x_2, [75 ,25])\n",
    "lo_minority_y= q1 - (1.5*(q3- q1))\n",
    "\n",
    "midpoint_x= (up_majority_x + lo_minority_x)/2\n",
    "midpoint_y= (up_majority_y + lo_minority_y)/2"
   ]
  },
  {
   "cell_type": "code",
   "execution_count": null,
   "metadata": {
    "id": "hTDyIRkkW8T7"
   },
   "outputs": [],
   "source": [
    "x_3=[]\n",
    "y_3=[]\n",
    "center_x_majority= sum(x_2)/len(x_2)\n",
    "center_y_majority= sum(y_2)/len(y_2)\n",
    "increased_minority_size= Counter(y_train)['Positive'] - Counter(y_train)['Negative']\n",
    "for _ in range(0,increased_minority_size):\n",
    "  x_3.append(random.normal()*minority_std_deviation + minority_c1)\n",
    "  y_3.append(random.normal()*minority_std_deviation + minority_c2)\n",
    "min_x3= min(x_3)\n",
    "min_y3= min(y_3)\n",
    "x_4=[]\n",
    "y_4=[]\n",
    "for i in range(0,increased_minority_size):\n",
    "  if ((x_3[i]) > up_majority_x) and (y_3[i] > up_majority_y) :\n",
    "      x_1.append(x_3[i])\n",
    "      y_1.append(y_3[i])\n",
    "  else:\n",
    "      x_4.append(x_3[i])\n",
    "      y_4.append(y_3[i])\n",
    "\n",
    "minority_data_increased = pd.DataFrame({'x': x_4,'y': y_4})\n",
    "minority_data= minority_data.append(minority_data_increased, ignore_index=True)"
   ]
  },
  {
   "cell_type": "code",
   "execution_count": null,
   "metadata": {
    "colab": {
     "base_uri": "https://localhost:8080/"
    },
    "id": "VJkUw4QsJF05",
    "outputId": "0e99d3bc-a191-40d5-f22f-4867bf3e264d"
   },
   "outputs": [],
   "source": [
    "center_x_minority= sum(x_4)/len(x_4)\n",
    "center_y_minority= sum(y_4)/len(y_4)\n",
    "\n",
    "print(center_x_minority)\n",
    "print(center_y_minority)"
   ]
  },
  {
   "cell_type": "code",
   "execution_count": null,
   "metadata": {
    "id": "e8EewCUxFWU-"
   },
   "outputs": [],
   "source": [
    "x_1=[]\n",
    "y_1=[]\n",
    "x_2=[]\n",
    "y_2=[]\n",
    "for x,y,val in zip(X_train['x'],X_train['y'],y_train):\n",
    "  if val == \"Positive\":\n",
    "    x_1.append(x)\n",
    "    y_1.append(y)\n",
    "  else:\n",
    "    x_2.append(x)\n",
    "    y_2.append(y)\n"
   ]
  },
  {
   "cell_type": "code",
   "execution_count": null,
   "metadata": {
    "colab": {
     "base_uri": "https://localhost:8080/",
     "height": 265
    },
    "id": "0M-FQUM9kbWt",
    "outputId": "6a43d1a4-7310-462a-dbb0-03c8f9c7ac97"
   },
   "outputs": [],
   "source": [
    "fig = plt.figure()\n",
    "ax1 = fig.add_subplot(111)\n",
    "ax1.scatter(x_1, y_1, s=5, c='b', marker=\"s\", label='Majority')\n",
    "ax1.scatter(x_2, y_2, s=5, c='r', marker=\"o\", label='Minority')\n",
    "ax1.scatter(x_4, y_4, s=5, c='y', marker=\"o\", label='Oversampled')\n",
    "plt.legend(loc='upper left');\n",
    "plt.show()"
   ]
  },
  {
   "cell_type": "code",
   "execution_count": null,
   "metadata": {
    "id": "VHKs5oJnjxOQ"
   },
   "outputs": [],
   "source": [
    "majority_data = pd.DataFrame({'x': x_1,'y': y_1})\n",
    "minority_data_increased = pd.DataFrame({'x': x_4,'y': y_4})"
   ]
  },
  {
   "cell_type": "code",
   "execution_count": null,
   "metadata": {
    "id": "L2Pb6zWJE8yj"
   },
   "outputs": [],
   "source": [
    "Dataset= majority_data.append(minority_data, ignore_index=True)\n",
    "majority_y=['Positive'] * majority_data.shape[0]\n",
    "minority_y=['Negative'] * minority_data.shape[0]\n",
    "y=majority_y + minority_y\n",
    "X_train, y_train = Dataset,y"
   ]
  },
  {
   "cell_type": "code",
   "execution_count": null,
   "metadata": {
    "colab": {
     "base_uri": "https://localhost:8080/"
    },
    "id": "PRsmMHWNkcoI",
    "outputId": "99e94d7f-8b1b-4f37-bfc9-973ba87b8900"
   },
   "outputs": [],
   "source": [
    "print(X_train.shape)\n",
    "print(X_test.shape)\n",
    "print(len(y_train))\n",
    "print(len(y_test))"
   ]
  },
  {
   "cell_type": "code",
   "execution_count": null,
   "metadata": {},
   "outputs": [],
   "source": [
    "print(majority_data.shape)\n",
    "print(minority_data.shape)"
   ]
  },
  {
   "cell_type": "code",
   "execution_count": null,
   "metadata": {
    "id": "fGrUAiC6Ej8t"
   },
   "outputs": [],
   "source": [
    "from sklearn.preprocessing import StandardScaler\n",
    "sc = StandardScaler()\n",
    "X_train = sc.fit_transform(X_train)\n",
    "X_test = sc.transform(X_test)"
   ]
  },
  {
   "cell_type": "code",
   "execution_count": null,
   "metadata": {
    "colab": {
     "base_uri": "https://localhost:8080/"
    },
    "id": "-RPO8FKDfdOv",
    "outputId": "18eb3503-885f-4466-e3c9-8302ea50908a"
   },
   "outputs": [],
   "source": [
    "from sklearn.naive_bayes import GaussianNB\n",
    "classifier = GaussianNB()\n",
    "classifier.fit(X_train, y_train)"
   ]
  },
  {
   "cell_type": "code",
   "execution_count": null,
   "metadata": {
    "id": "YDJmctkCg9WC"
   },
   "outputs": [],
   "source": [
    "y_pred  =  classifier.predict(X_test)"
   ]
  },
  {
   "cell_type": "code",
   "execution_count": null,
   "metadata": {
    "id": "MiEVhCJuhKFl"
   },
   "outputs": [],
   "source": [
    "from sklearn.metrics import confusion_matrix,accuracy_score\n",
    "cm = confusion_matrix(y_test, y_pred)\n",
    "ac = accuracy_score(y_test,y_pred)"
   ]
  },
  {
   "cell_type": "code",
   "execution_count": null,
   "metadata": {
    "colab": {
     "base_uri": "https://localhost:8080/"
    },
    "id": "-o_zGLu1hhGi",
    "outputId": "46edf22f-99fd-4e00-b0c6-af91a019ec25"
   },
   "outputs": [],
   "source": [
    "print(ac)\n",
    "print(cm)"
   ]
  },
  {
   "cell_type": "code",
   "execution_count": null,
   "metadata": {},
   "outputs": [],
   "source": [
    "from sklearn.metrics import precision_recall_fscore_support\n",
    "\n",
    "precision_recall_fscore_support(y_test, y_pred, average='weighted')"
   ]
  },
  {
   "cell_type": "code",
   "execution_count": null,
   "metadata": {
    "colab": {
     "base_uri": "https://localhost:8080/"
    },
    "id": "qjbtjtu775fH",
    "outputId": "31ff3c36-f0fc-45d2-e8e8-c31825095eb5"
   },
   "outputs": [],
   "source": [
    "classifier = SVC(kernel = 'rbf', random_state = 0)\n",
    "classifier.fit(X_train, y_train)"
   ]
  },
  {
   "cell_type": "code",
   "execution_count": null,
   "metadata": {
    "colab": {
     "base_uri": "https://localhost:8080/"
    },
    "id": "I6rFR_qm8Fcv",
    "outputId": "3e240a88-b3c3-4ad2-d4d6-96b3a80e47a2"
   },
   "outputs": [],
   "source": [
    "y_pred = classifier.predict(X_test) \n",
    "cm = confusion_matrix(y_test, y_pred)\n",
    "print (\"Accuracy : \", accuracy_score(y_test, y_pred))\n",
    "print(cm)"
   ]
  },
  {
   "cell_type": "code",
   "execution_count": null,
   "metadata": {},
   "outputs": [],
   "source": [
    "from sklearn.metrics import precision_recall_fscore_support\n",
    "\n",
    "precision_recall_fscore_support(y_test, y_pred, average='weighted')"
   ]
  },
  {
   "cell_type": "code",
   "execution_count": null,
   "metadata": {
    "id": "fg1z3KFmFDYZ"
   },
   "outputs": [],
   "source": [
    "clf = DecisionTreeClassifier()\n",
    "clf = clf.fit(X_train,y_train)\n",
    "y_pred = clf.predict(X_test)"
   ]
  },
  {
   "cell_type": "code",
   "execution_count": null,
   "metadata": {
    "colab": {
     "base_uri": "https://localhost:8080/"
    },
    "id": "S6FA10zHGg9L",
    "outputId": "620b8b8f-eb57-484a-bc45-5b4d4a6dbede"
   },
   "outputs": [],
   "source": [
    "y_pred = classifier.predict(X_test) \n",
    "cm = confusion_matrix(y_test, y_pred)\n",
    "print (\"Accuracy : \", accuracy_score(y_test, y_pred))\n",
    "print(cm)"
   ]
  },
  {
   "cell_type": "code",
   "execution_count": null,
   "metadata": {
    "colab": {
     "base_uri": "https://localhost:8080/"
    },
    "id": "fhv2vaGILFTa",
    "outputId": "c2e0c409-5874-4f71-a2a1-6e0488f38c07"
   },
   "outputs": [],
   "source": [
    "from sklearn.metrics import precision_recall_fscore_support\n",
    "\n",
    "precision_recall_fscore_support(y_test, y_pred, average='weighted')"
   ]
  }
 ],
 "metadata": {
  "colab": {
   "collapsed_sections": [],
   "name": "Synthetic_Data_Generation_Gaussian_Region.ipynb",
   "provenance": []
  },
  "kernelspec": {
   "display_name": "Python 3 (ipykernel)",
   "language": "python",
   "name": "python3"
  },
  "language_info": {
   "codemirror_mode": {
    "name": "ipython",
    "version": 3
   },
   "file_extension": ".py",
   "mimetype": "text/x-python",
   "name": "python",
   "nbconvert_exporter": "python",
   "pygments_lexer": "ipython3",
   "version": "3.9.7"
  }
 },
 "nbformat": 4,
 "nbformat_minor": 1
}
